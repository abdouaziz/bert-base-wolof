{
  "nbformat": 4,
  "nbformat_minor": 0,
  "metadata": {
    "colab": {
      "name": "bert-base-wolof.ipynb",
      "provenance": []
    },
    "kernelspec": {
      "name": "python3",
      "display_name": "Python 3"
    },
    "language_info": {
      "name": "python"
    },
    "accelerator": "GPU",
    "widgets": {
      "application/vnd.jupyter.widget-state+json": {
        "02c56e06da3c41719df332314e78e2e1": {
          "model_module": "@jupyter-widgets/controls",
          "model_name": "HBoxModel",
          "model_module_version": "1.5.0",
          "state": {
            "_view_name": "HBoxView",
            "_dom_classes": [],
            "_model_name": "HBoxModel",
            "_view_module": "@jupyter-widgets/controls",
            "_model_module_version": "1.5.0",
            "_view_count": null,
            "_view_module_version": "1.5.0",
            "box_style": "",
            "layout": "IPY_MODEL_ac8f0f8ee3b249a5ab3f12b761861c1f",
            "_model_module": "@jupyter-widgets/controls",
            "children": [
              "IPY_MODEL_e135aacbdba7486fa43600ea8b8d261e",
              "IPY_MODEL_6b64eeeecd82450cbba8deeb1e2059df",
              "IPY_MODEL_44eab439e558420aac5bb09fa0e85c21"
            ]
          }
        },
        "ac8f0f8ee3b249a5ab3f12b761861c1f": {
          "model_module": "@jupyter-widgets/base",
          "model_name": "LayoutModel",
          "model_module_version": "1.2.0",
          "state": {
            "_view_name": "LayoutView",
            "grid_template_rows": null,
            "right": null,
            "justify_content": null,
            "_view_module": "@jupyter-widgets/base",
            "overflow": null,
            "_model_module_version": "1.2.0",
            "_view_count": null,
            "flex_flow": null,
            "width": null,
            "min_width": null,
            "border": null,
            "align_items": null,
            "bottom": null,
            "_model_module": "@jupyter-widgets/base",
            "top": null,
            "grid_column": null,
            "overflow_y": null,
            "overflow_x": null,
            "grid_auto_flow": null,
            "grid_area": null,
            "grid_template_columns": null,
            "flex": null,
            "_model_name": "LayoutModel",
            "justify_items": null,
            "grid_row": null,
            "max_height": null,
            "align_content": null,
            "visibility": null,
            "align_self": null,
            "height": null,
            "min_height": null,
            "padding": null,
            "grid_auto_rows": null,
            "grid_gap": null,
            "max_width": null,
            "order": null,
            "_view_module_version": "1.2.0",
            "grid_template_areas": null,
            "object_position": null,
            "object_fit": null,
            "grid_auto_columns": null,
            "margin": null,
            "display": null,
            "left": null
          }
        },
        "e135aacbdba7486fa43600ea8b8d261e": {
          "model_module": "@jupyter-widgets/controls",
          "model_name": "HTMLModel",
          "model_module_version": "1.5.0",
          "state": {
            "_view_name": "HTMLView",
            "style": "IPY_MODEL_2da21dbb129347b4b4fedc901d2723fa",
            "_dom_classes": [],
            "description": "",
            "_model_name": "HTMLModel",
            "placeholder": "​",
            "_view_module": "@jupyter-widgets/controls",
            "_model_module_version": "1.5.0",
            "value": "Downloading: 100%",
            "_view_count": null,
            "_view_module_version": "1.5.0",
            "description_tooltip": null,
            "_model_module": "@jupyter-widgets/controls",
            "layout": "IPY_MODEL_532689612b3e46de94a802cce635f2ab"
          }
        },
        "6b64eeeecd82450cbba8deeb1e2059df": {
          "model_module": "@jupyter-widgets/controls",
          "model_name": "FloatProgressModel",
          "model_module_version": "1.5.0",
          "state": {
            "_view_name": "ProgressView",
            "style": "IPY_MODEL_81c71462ce3b4dca8de5f3b1da7bdf75",
            "_dom_classes": [],
            "description": "",
            "_model_name": "FloatProgressModel",
            "bar_style": "success",
            "max": 432,
            "_view_module": "@jupyter-widgets/controls",
            "_model_module_version": "1.5.0",
            "value": 432,
            "_view_count": null,
            "_view_module_version": "1.5.0",
            "orientation": "horizontal",
            "min": 0,
            "description_tooltip": null,
            "_model_module": "@jupyter-widgets/controls",
            "layout": "IPY_MODEL_005396d657c24457a1862dd3890e152f"
          }
        },
        "44eab439e558420aac5bb09fa0e85c21": {
          "model_module": "@jupyter-widgets/controls",
          "model_name": "HTMLModel",
          "model_module_version": "1.5.0",
          "state": {
            "_view_name": "HTMLView",
            "style": "IPY_MODEL_aa68425dd5eb4fe8aefe3b30f12bee96",
            "_dom_classes": [],
            "description": "",
            "_model_name": "HTMLModel",
            "placeholder": "​",
            "_view_module": "@jupyter-widgets/controls",
            "_model_module_version": "1.5.0",
            "value": " 432/432 [00:00&lt;00:00, 8.94kB/s]",
            "_view_count": null,
            "_view_module_version": "1.5.0",
            "description_tooltip": null,
            "_model_module": "@jupyter-widgets/controls",
            "layout": "IPY_MODEL_bbddac8246504e7a81671d8a75a89de9"
          }
        },
        "2da21dbb129347b4b4fedc901d2723fa": {
          "model_module": "@jupyter-widgets/controls",
          "model_name": "DescriptionStyleModel",
          "model_module_version": "1.5.0",
          "state": {
            "_view_name": "StyleView",
            "_model_name": "DescriptionStyleModel",
            "description_width": "",
            "_view_module": "@jupyter-widgets/base",
            "_model_module_version": "1.5.0",
            "_view_count": null,
            "_view_module_version": "1.2.0",
            "_model_module": "@jupyter-widgets/controls"
          }
        },
        "532689612b3e46de94a802cce635f2ab": {
          "model_module": "@jupyter-widgets/base",
          "model_name": "LayoutModel",
          "model_module_version": "1.2.0",
          "state": {
            "_view_name": "LayoutView",
            "grid_template_rows": null,
            "right": null,
            "justify_content": null,
            "_view_module": "@jupyter-widgets/base",
            "overflow": null,
            "_model_module_version": "1.2.0",
            "_view_count": null,
            "flex_flow": null,
            "width": null,
            "min_width": null,
            "border": null,
            "align_items": null,
            "bottom": null,
            "_model_module": "@jupyter-widgets/base",
            "top": null,
            "grid_column": null,
            "overflow_y": null,
            "overflow_x": null,
            "grid_auto_flow": null,
            "grid_area": null,
            "grid_template_columns": null,
            "flex": null,
            "_model_name": "LayoutModel",
            "justify_items": null,
            "grid_row": null,
            "max_height": null,
            "align_content": null,
            "visibility": null,
            "align_self": null,
            "height": null,
            "min_height": null,
            "padding": null,
            "grid_auto_rows": null,
            "grid_gap": null,
            "max_width": null,
            "order": null,
            "_view_module_version": "1.2.0",
            "grid_template_areas": null,
            "object_position": null,
            "object_fit": null,
            "grid_auto_columns": null,
            "margin": null,
            "display": null,
            "left": null
          }
        },
        "81c71462ce3b4dca8de5f3b1da7bdf75": {
          "model_module": "@jupyter-widgets/controls",
          "model_name": "ProgressStyleModel",
          "model_module_version": "1.5.0",
          "state": {
            "_view_name": "StyleView",
            "_model_name": "ProgressStyleModel",
            "description_width": "",
            "_view_module": "@jupyter-widgets/base",
            "_model_module_version": "1.5.0",
            "_view_count": null,
            "_view_module_version": "1.2.0",
            "bar_color": null,
            "_model_module": "@jupyter-widgets/controls"
          }
        },
        "005396d657c24457a1862dd3890e152f": {
          "model_module": "@jupyter-widgets/base",
          "model_name": "LayoutModel",
          "model_module_version": "1.2.0",
          "state": {
            "_view_name": "LayoutView",
            "grid_template_rows": null,
            "right": null,
            "justify_content": null,
            "_view_module": "@jupyter-widgets/base",
            "overflow": null,
            "_model_module_version": "1.2.0",
            "_view_count": null,
            "flex_flow": null,
            "width": null,
            "min_width": null,
            "border": null,
            "align_items": null,
            "bottom": null,
            "_model_module": "@jupyter-widgets/base",
            "top": null,
            "grid_column": null,
            "overflow_y": null,
            "overflow_x": null,
            "grid_auto_flow": null,
            "grid_area": null,
            "grid_template_columns": null,
            "flex": null,
            "_model_name": "LayoutModel",
            "justify_items": null,
            "grid_row": null,
            "max_height": null,
            "align_content": null,
            "visibility": null,
            "align_self": null,
            "height": null,
            "min_height": null,
            "padding": null,
            "grid_auto_rows": null,
            "grid_gap": null,
            "max_width": null,
            "order": null,
            "_view_module_version": "1.2.0",
            "grid_template_areas": null,
            "object_position": null,
            "object_fit": null,
            "grid_auto_columns": null,
            "margin": null,
            "display": null,
            "left": null
          }
        },
        "aa68425dd5eb4fe8aefe3b30f12bee96": {
          "model_module": "@jupyter-widgets/controls",
          "model_name": "DescriptionStyleModel",
          "model_module_version": "1.5.0",
          "state": {
            "_view_name": "StyleView",
            "_model_name": "DescriptionStyleModel",
            "description_width": "",
            "_view_module": "@jupyter-widgets/base",
            "_model_module_version": "1.5.0",
            "_view_count": null,
            "_view_module_version": "1.2.0",
            "_model_module": "@jupyter-widgets/controls"
          }
        },
        "bbddac8246504e7a81671d8a75a89de9": {
          "model_module": "@jupyter-widgets/base",
          "model_name": "LayoutModel",
          "model_module_version": "1.2.0",
          "state": {
            "_view_name": "LayoutView",
            "grid_template_rows": null,
            "right": null,
            "justify_content": null,
            "_view_module": "@jupyter-widgets/base",
            "overflow": null,
            "_model_module_version": "1.2.0",
            "_view_count": null,
            "flex_flow": null,
            "width": null,
            "min_width": null,
            "border": null,
            "align_items": null,
            "bottom": null,
            "_model_module": "@jupyter-widgets/base",
            "top": null,
            "grid_column": null,
            "overflow_y": null,
            "overflow_x": null,
            "grid_auto_flow": null,
            "grid_area": null,
            "grid_template_columns": null,
            "flex": null,
            "_model_name": "LayoutModel",
            "justify_items": null,
            "grid_row": null,
            "max_height": null,
            "align_content": null,
            "visibility": null,
            "align_self": null,
            "height": null,
            "min_height": null,
            "padding": null,
            "grid_auto_rows": null,
            "grid_gap": null,
            "max_width": null,
            "order": null,
            "_view_module_version": "1.2.0",
            "grid_template_areas": null,
            "object_position": null,
            "object_fit": null,
            "grid_auto_columns": null,
            "margin": null,
            "display": null,
            "left": null
          }
        },
        "8f36074fe45547c3b2068c1e064d0bc0": {
          "model_module": "@jupyter-widgets/controls",
          "model_name": "HBoxModel",
          "model_module_version": "1.5.0",
          "state": {
            "_view_name": "HBoxView",
            "_dom_classes": [],
            "_model_name": "HBoxModel",
            "_view_module": "@jupyter-widgets/controls",
            "_model_module_version": "1.5.0",
            "_view_count": null,
            "_view_module_version": "1.5.0",
            "box_style": "",
            "layout": "IPY_MODEL_92d981add26c4ce782d3d3f31ad50988",
            "_model_module": "@jupyter-widgets/controls",
            "children": [
              "IPY_MODEL_3f548b8d2c8341588dee15a10beaaebf",
              "IPY_MODEL_ec696c71ed074799a6f4d925784656df",
              "IPY_MODEL_6f24e28348c948eeaa58a52c463acd2f"
            ]
          }
        },
        "92d981add26c4ce782d3d3f31ad50988": {
          "model_module": "@jupyter-widgets/base",
          "model_name": "LayoutModel",
          "model_module_version": "1.2.0",
          "state": {
            "_view_name": "LayoutView",
            "grid_template_rows": null,
            "right": null,
            "justify_content": null,
            "_view_module": "@jupyter-widgets/base",
            "overflow": null,
            "_model_module_version": "1.2.0",
            "_view_count": null,
            "flex_flow": null,
            "width": null,
            "min_width": null,
            "border": null,
            "align_items": null,
            "bottom": null,
            "_model_module": "@jupyter-widgets/base",
            "top": null,
            "grid_column": null,
            "overflow_y": null,
            "overflow_x": null,
            "grid_auto_flow": null,
            "grid_area": null,
            "grid_template_columns": null,
            "flex": null,
            "_model_name": "LayoutModel",
            "justify_items": null,
            "grid_row": null,
            "max_height": null,
            "align_content": null,
            "visibility": null,
            "align_self": null,
            "height": null,
            "min_height": null,
            "padding": null,
            "grid_auto_rows": null,
            "grid_gap": null,
            "max_width": null,
            "order": null,
            "_view_module_version": "1.2.0",
            "grid_template_areas": null,
            "object_position": null,
            "object_fit": null,
            "grid_auto_columns": null,
            "margin": null,
            "display": null,
            "left": null
          }
        },
        "3f548b8d2c8341588dee15a10beaaebf": {
          "model_module": "@jupyter-widgets/controls",
          "model_name": "HTMLModel",
          "model_module_version": "1.5.0",
          "state": {
            "_view_name": "HTMLView",
            "style": "IPY_MODEL_8cc8d186018849fe987f0ad21b3fb22b",
            "_dom_classes": [],
            "description": "",
            "_model_name": "HTMLModel",
            "placeholder": "​",
            "_view_module": "@jupyter-widgets/controls",
            "_model_module_version": "1.5.0",
            "value": "Downloading: 100%",
            "_view_count": null,
            "_view_module_version": "1.5.0",
            "description_tooltip": null,
            "_model_module": "@jupyter-widgets/controls",
            "layout": "IPY_MODEL_621a10d991ea43efa8e4b8edaea1de8d"
          }
        },
        "ec696c71ed074799a6f4d925784656df": {
          "model_module": "@jupyter-widgets/controls",
          "model_name": "FloatProgressModel",
          "model_module_version": "1.5.0",
          "state": {
            "_view_name": "ProgressView",
            "style": "IPY_MODEL_95087ed9ae3648749f283c8880c23fed",
            "_dom_classes": [],
            "description": "",
            "_model_name": "FloatProgressModel",
            "bar_style": "success",
            "max": 227753514,
            "_view_module": "@jupyter-widgets/controls",
            "_model_module_version": "1.5.0",
            "value": 227753514,
            "_view_count": null,
            "_view_module_version": "1.5.0",
            "orientation": "horizontal",
            "min": 0,
            "description_tooltip": null,
            "_model_module": "@jupyter-widgets/controls",
            "layout": "IPY_MODEL_733281cf94d147399332e322894abbe4"
          }
        },
        "6f24e28348c948eeaa58a52c463acd2f": {
          "model_module": "@jupyter-widgets/controls",
          "model_name": "HTMLModel",
          "model_module_version": "1.5.0",
          "state": {
            "_view_name": "HTMLView",
            "style": "IPY_MODEL_6bebfd4968a240c8b26b32d532eb6665",
            "_dom_classes": [],
            "description": "",
            "_model_name": "HTMLModel",
            "placeholder": "​",
            "_view_module": "@jupyter-widgets/controls",
            "_model_module_version": "1.5.0",
            "value": " 217M/217M [00:10&lt;00:00, 22.7MB/s]",
            "_view_count": null,
            "_view_module_version": "1.5.0",
            "description_tooltip": null,
            "_model_module": "@jupyter-widgets/controls",
            "layout": "IPY_MODEL_0678cc4d77204c90ad4046579e70cb19"
          }
        },
        "8cc8d186018849fe987f0ad21b3fb22b": {
          "model_module": "@jupyter-widgets/controls",
          "model_name": "DescriptionStyleModel",
          "model_module_version": "1.5.0",
          "state": {
            "_view_name": "StyleView",
            "_model_name": "DescriptionStyleModel",
            "description_width": "",
            "_view_module": "@jupyter-widgets/base",
            "_model_module_version": "1.5.0",
            "_view_count": null,
            "_view_module_version": "1.2.0",
            "_model_module": "@jupyter-widgets/controls"
          }
        },
        "621a10d991ea43efa8e4b8edaea1de8d": {
          "model_module": "@jupyter-widgets/base",
          "model_name": "LayoutModel",
          "model_module_version": "1.2.0",
          "state": {
            "_view_name": "LayoutView",
            "grid_template_rows": null,
            "right": null,
            "justify_content": null,
            "_view_module": "@jupyter-widgets/base",
            "overflow": null,
            "_model_module_version": "1.2.0",
            "_view_count": null,
            "flex_flow": null,
            "width": null,
            "min_width": null,
            "border": null,
            "align_items": null,
            "bottom": null,
            "_model_module": "@jupyter-widgets/base",
            "top": null,
            "grid_column": null,
            "overflow_y": null,
            "overflow_x": null,
            "grid_auto_flow": null,
            "grid_area": null,
            "grid_template_columns": null,
            "flex": null,
            "_model_name": "LayoutModel",
            "justify_items": null,
            "grid_row": null,
            "max_height": null,
            "align_content": null,
            "visibility": null,
            "align_self": null,
            "height": null,
            "min_height": null,
            "padding": null,
            "grid_auto_rows": null,
            "grid_gap": null,
            "max_width": null,
            "order": null,
            "_view_module_version": "1.2.0",
            "grid_template_areas": null,
            "object_position": null,
            "object_fit": null,
            "grid_auto_columns": null,
            "margin": null,
            "display": null,
            "left": null
          }
        },
        "95087ed9ae3648749f283c8880c23fed": {
          "model_module": "@jupyter-widgets/controls",
          "model_name": "ProgressStyleModel",
          "model_module_version": "1.5.0",
          "state": {
            "_view_name": "StyleView",
            "_model_name": "ProgressStyleModel",
            "description_width": "",
            "_view_module": "@jupyter-widgets/base",
            "_model_module_version": "1.5.0",
            "_view_count": null,
            "_view_module_version": "1.2.0",
            "bar_color": null,
            "_model_module": "@jupyter-widgets/controls"
          }
        },
        "733281cf94d147399332e322894abbe4": {
          "model_module": "@jupyter-widgets/base",
          "model_name": "LayoutModel",
          "model_module_version": "1.2.0",
          "state": {
            "_view_name": "LayoutView",
            "grid_template_rows": null,
            "right": null,
            "justify_content": null,
            "_view_module": "@jupyter-widgets/base",
            "overflow": null,
            "_model_module_version": "1.2.0",
            "_view_count": null,
            "flex_flow": null,
            "width": null,
            "min_width": null,
            "border": null,
            "align_items": null,
            "bottom": null,
            "_model_module": "@jupyter-widgets/base",
            "top": null,
            "grid_column": null,
            "overflow_y": null,
            "overflow_x": null,
            "grid_auto_flow": null,
            "grid_area": null,
            "grid_template_columns": null,
            "flex": null,
            "_model_name": "LayoutModel",
            "justify_items": null,
            "grid_row": null,
            "max_height": null,
            "align_content": null,
            "visibility": null,
            "align_self": null,
            "height": null,
            "min_height": null,
            "padding": null,
            "grid_auto_rows": null,
            "grid_gap": null,
            "max_width": null,
            "order": null,
            "_view_module_version": "1.2.0",
            "grid_template_areas": null,
            "object_position": null,
            "object_fit": null,
            "grid_auto_columns": null,
            "margin": null,
            "display": null,
            "left": null
          }
        },
        "6bebfd4968a240c8b26b32d532eb6665": {
          "model_module": "@jupyter-widgets/controls",
          "model_name": "DescriptionStyleModel",
          "model_module_version": "1.5.0",
          "state": {
            "_view_name": "StyleView",
            "_model_name": "DescriptionStyleModel",
            "description_width": "",
            "_view_module": "@jupyter-widgets/base",
            "_model_module_version": "1.5.0",
            "_view_count": null,
            "_view_module_version": "1.2.0",
            "_model_module": "@jupyter-widgets/controls"
          }
        },
        "0678cc4d77204c90ad4046579e70cb19": {
          "model_module": "@jupyter-widgets/base",
          "model_name": "LayoutModel",
          "model_module_version": "1.2.0",
          "state": {
            "_view_name": "LayoutView",
            "grid_template_rows": null,
            "right": null,
            "justify_content": null,
            "_view_module": "@jupyter-widgets/base",
            "overflow": null,
            "_model_module_version": "1.2.0",
            "_view_count": null,
            "flex_flow": null,
            "width": null,
            "min_width": null,
            "border": null,
            "align_items": null,
            "bottom": null,
            "_model_module": "@jupyter-widgets/base",
            "top": null,
            "grid_column": null,
            "overflow_y": null,
            "overflow_x": null,
            "grid_auto_flow": null,
            "grid_area": null,
            "grid_template_columns": null,
            "flex": null,
            "_model_name": "LayoutModel",
            "justify_items": null,
            "grid_row": null,
            "max_height": null,
            "align_content": null,
            "visibility": null,
            "align_self": null,
            "height": null,
            "min_height": null,
            "padding": null,
            "grid_auto_rows": null,
            "grid_gap": null,
            "max_width": null,
            "order": null,
            "_view_module_version": "1.2.0",
            "grid_template_areas": null,
            "object_position": null,
            "object_fit": null,
            "grid_auto_columns": null,
            "margin": null,
            "display": null,
            "left": null
          }
        },
        "e25afd681f994d0a8b2677f3f08a226c": {
          "model_module": "@jupyter-widgets/controls",
          "model_name": "HBoxModel",
          "model_module_version": "1.5.0",
          "state": {
            "_view_name": "HBoxView",
            "_dom_classes": [],
            "_model_name": "HBoxModel",
            "_view_module": "@jupyter-widgets/controls",
            "_model_module_version": "1.5.0",
            "_view_count": null,
            "_view_module_version": "1.5.0",
            "box_style": "",
            "layout": "IPY_MODEL_068d021ee6084103a5d3d12a3bf917ca",
            "_model_module": "@jupyter-widgets/controls",
            "children": [
              "IPY_MODEL_b6ec8d48fb304397a8b740d3ed71e988",
              "IPY_MODEL_bf9d88f40d854c2d8cdcee0962633a1d",
              "IPY_MODEL_90ad218f9cdc43f49ceea67f6c4dfa40"
            ]
          }
        },
        "068d021ee6084103a5d3d12a3bf917ca": {
          "model_module": "@jupyter-widgets/base",
          "model_name": "LayoutModel",
          "model_module_version": "1.2.0",
          "state": {
            "_view_name": "LayoutView",
            "grid_template_rows": null,
            "right": null,
            "justify_content": null,
            "_view_module": "@jupyter-widgets/base",
            "overflow": null,
            "_model_module_version": "1.2.0",
            "_view_count": null,
            "flex_flow": null,
            "width": null,
            "min_width": null,
            "border": null,
            "align_items": null,
            "bottom": null,
            "_model_module": "@jupyter-widgets/base",
            "top": null,
            "grid_column": null,
            "overflow_y": null,
            "overflow_x": null,
            "grid_auto_flow": null,
            "grid_area": null,
            "grid_template_columns": null,
            "flex": null,
            "_model_name": "LayoutModel",
            "justify_items": null,
            "grid_row": null,
            "max_height": null,
            "align_content": null,
            "visibility": null,
            "align_self": null,
            "height": null,
            "min_height": null,
            "padding": null,
            "grid_auto_rows": null,
            "grid_gap": null,
            "max_width": null,
            "order": null,
            "_view_module_version": "1.2.0",
            "grid_template_areas": null,
            "object_position": null,
            "object_fit": null,
            "grid_auto_columns": null,
            "margin": null,
            "display": null,
            "left": null
          }
        },
        "b6ec8d48fb304397a8b740d3ed71e988": {
          "model_module": "@jupyter-widgets/controls",
          "model_name": "HTMLModel",
          "model_module_version": "1.5.0",
          "state": {
            "_view_name": "HTMLView",
            "style": "IPY_MODEL_1a4a3af415df4d43981a2fb815528a9b",
            "_dom_classes": [],
            "description": "",
            "_model_name": "HTMLModel",
            "placeholder": "​",
            "_view_module": "@jupyter-widgets/controls",
            "_model_module_version": "1.5.0",
            "value": "Downloading: 100%",
            "_view_count": null,
            "_view_module_version": "1.5.0",
            "description_tooltip": null,
            "_model_module": "@jupyter-widgets/controls",
            "layout": "IPY_MODEL_3e5bfa80e974480eb8de03365b1ecee9"
          }
        },
        "bf9d88f40d854c2d8cdcee0962633a1d": {
          "model_module": "@jupyter-widgets/controls",
          "model_name": "FloatProgressModel",
          "model_module_version": "1.5.0",
          "state": {
            "_view_name": "ProgressView",
            "style": "IPY_MODEL_5e86f6c6e1d944a5b3b2b2d240cb60e9",
            "_dom_classes": [],
            "description": "",
            "_model_name": "FloatProgressModel",
            "bar_style": "success",
            "max": 97626,
            "_view_module": "@jupyter-widgets/controls",
            "_model_module_version": "1.5.0",
            "value": 97626,
            "_view_count": null,
            "_view_module_version": "1.5.0",
            "orientation": "horizontal",
            "min": 0,
            "description_tooltip": null,
            "_model_module": "@jupyter-widgets/controls",
            "layout": "IPY_MODEL_99ae6a5b210240f5987daeea27e226a1"
          }
        },
        "90ad218f9cdc43f49ceea67f6c4dfa40": {
          "model_module": "@jupyter-widgets/controls",
          "model_name": "HTMLModel",
          "model_module_version": "1.5.0",
          "state": {
            "_view_name": "HTMLView",
            "style": "IPY_MODEL_62e8190bd7e34dab95cfd26d923b6bb8",
            "_dom_classes": [],
            "description": "",
            "_model_name": "HTMLModel",
            "placeholder": "​",
            "_view_module": "@jupyter-widgets/controls",
            "_model_module_version": "1.5.0",
            "value": " 95.3k/95.3k [00:00&lt;00:00, 179kB/s]",
            "_view_count": null,
            "_view_module_version": "1.5.0",
            "description_tooltip": null,
            "_model_module": "@jupyter-widgets/controls",
            "layout": "IPY_MODEL_a48ac0e639c64690a831f79ac6c46537"
          }
        },
        "1a4a3af415df4d43981a2fb815528a9b": {
          "model_module": "@jupyter-widgets/controls",
          "model_name": "DescriptionStyleModel",
          "model_module_version": "1.5.0",
          "state": {
            "_view_name": "StyleView",
            "_model_name": "DescriptionStyleModel",
            "description_width": "",
            "_view_module": "@jupyter-widgets/base",
            "_model_module_version": "1.5.0",
            "_view_count": null,
            "_view_module_version": "1.2.0",
            "_model_module": "@jupyter-widgets/controls"
          }
        },
        "3e5bfa80e974480eb8de03365b1ecee9": {
          "model_module": "@jupyter-widgets/base",
          "model_name": "LayoutModel",
          "model_module_version": "1.2.0",
          "state": {
            "_view_name": "LayoutView",
            "grid_template_rows": null,
            "right": null,
            "justify_content": null,
            "_view_module": "@jupyter-widgets/base",
            "overflow": null,
            "_model_module_version": "1.2.0",
            "_view_count": null,
            "flex_flow": null,
            "width": null,
            "min_width": null,
            "border": null,
            "align_items": null,
            "bottom": null,
            "_model_module": "@jupyter-widgets/base",
            "top": null,
            "grid_column": null,
            "overflow_y": null,
            "overflow_x": null,
            "grid_auto_flow": null,
            "grid_area": null,
            "grid_template_columns": null,
            "flex": null,
            "_model_name": "LayoutModel",
            "justify_items": null,
            "grid_row": null,
            "max_height": null,
            "align_content": null,
            "visibility": null,
            "align_self": null,
            "height": null,
            "min_height": null,
            "padding": null,
            "grid_auto_rows": null,
            "grid_gap": null,
            "max_width": null,
            "order": null,
            "_view_module_version": "1.2.0",
            "grid_template_areas": null,
            "object_position": null,
            "object_fit": null,
            "grid_auto_columns": null,
            "margin": null,
            "display": null,
            "left": null
          }
        },
        "5e86f6c6e1d944a5b3b2b2d240cb60e9": {
          "model_module": "@jupyter-widgets/controls",
          "model_name": "ProgressStyleModel",
          "model_module_version": "1.5.0",
          "state": {
            "_view_name": "StyleView",
            "_model_name": "ProgressStyleModel",
            "description_width": "",
            "_view_module": "@jupyter-widgets/base",
            "_model_module_version": "1.5.0",
            "_view_count": null,
            "_view_module_version": "1.2.0",
            "bar_color": null,
            "_model_module": "@jupyter-widgets/controls"
          }
        },
        "99ae6a5b210240f5987daeea27e226a1": {
          "model_module": "@jupyter-widgets/base",
          "model_name": "LayoutModel",
          "model_module_version": "1.2.0",
          "state": {
            "_view_name": "LayoutView",
            "grid_template_rows": null,
            "right": null,
            "justify_content": null,
            "_view_module": "@jupyter-widgets/base",
            "overflow": null,
            "_model_module_version": "1.2.0",
            "_view_count": null,
            "flex_flow": null,
            "width": null,
            "min_width": null,
            "border": null,
            "align_items": null,
            "bottom": null,
            "_model_module": "@jupyter-widgets/base",
            "top": null,
            "grid_column": null,
            "overflow_y": null,
            "overflow_x": null,
            "grid_auto_flow": null,
            "grid_area": null,
            "grid_template_columns": null,
            "flex": null,
            "_model_name": "LayoutModel",
            "justify_items": null,
            "grid_row": null,
            "max_height": null,
            "align_content": null,
            "visibility": null,
            "align_self": null,
            "height": null,
            "min_height": null,
            "padding": null,
            "grid_auto_rows": null,
            "grid_gap": null,
            "max_width": null,
            "order": null,
            "_view_module_version": "1.2.0",
            "grid_template_areas": null,
            "object_position": null,
            "object_fit": null,
            "grid_auto_columns": null,
            "margin": null,
            "display": null,
            "left": null
          }
        },
        "62e8190bd7e34dab95cfd26d923b6bb8": {
          "model_module": "@jupyter-widgets/controls",
          "model_name": "DescriptionStyleModel",
          "model_module_version": "1.5.0",
          "state": {
            "_view_name": "StyleView",
            "_model_name": "DescriptionStyleModel",
            "description_width": "",
            "_view_module": "@jupyter-widgets/base",
            "_model_module_version": "1.5.0",
            "_view_count": null,
            "_view_module_version": "1.2.0",
            "_model_module": "@jupyter-widgets/controls"
          }
        },
        "a48ac0e639c64690a831f79ac6c46537": {
          "model_module": "@jupyter-widgets/base",
          "model_name": "LayoutModel",
          "model_module_version": "1.2.0",
          "state": {
            "_view_name": "LayoutView",
            "grid_template_rows": null,
            "right": null,
            "justify_content": null,
            "_view_module": "@jupyter-widgets/base",
            "overflow": null,
            "_model_module_version": "1.2.0",
            "_view_count": null,
            "flex_flow": null,
            "width": null,
            "min_width": null,
            "border": null,
            "align_items": null,
            "bottom": null,
            "_model_module": "@jupyter-widgets/base",
            "top": null,
            "grid_column": null,
            "overflow_y": null,
            "overflow_x": null,
            "grid_auto_flow": null,
            "grid_area": null,
            "grid_template_columns": null,
            "flex": null,
            "_model_name": "LayoutModel",
            "justify_items": null,
            "grid_row": null,
            "max_height": null,
            "align_content": null,
            "visibility": null,
            "align_self": null,
            "height": null,
            "min_height": null,
            "padding": null,
            "grid_auto_rows": null,
            "grid_gap": null,
            "max_width": null,
            "order": null,
            "_view_module_version": "1.2.0",
            "grid_template_areas": null,
            "object_position": null,
            "object_fit": null,
            "grid_auto_columns": null,
            "margin": null,
            "display": null,
            "left": null
          }
        }
      }
    }
  },
  "cells": [
    {
      "cell_type": "markdown",
      "metadata": {
        "id": "cNGP_mje3T7x"
      },
      "source": [
        "## This notebook is a description of how you can use the bert-base-wolof. \n"
      ]
    },
    {
      "cell_type": "code",
      "metadata": {
        "colab": {
          "base_uri": "https://localhost:8080/"
        },
        "id": "AIew-jk2KrJ_",
        "outputId": "4ef2d3c9-b0aa-41ca-b899-2e30a0a05753"
      },
      "source": [
        "!pip install -q transformers  #lets install the huggingface liberary "
      ],
      "execution_count": 1,
      "outputs": [
        {
          "output_type": "stream",
          "name": "stdout",
          "text": [
            "\u001b[K     |████████████████████████████████| 3.1 MB 10.9 MB/s \n",
            "\u001b[K     |████████████████████████████████| 59 kB 4.0 MB/s \n",
            "\u001b[K     |████████████████████████████████| 895 kB 21.5 MB/s \n",
            "\u001b[K     |████████████████████████████████| 596 kB 35.2 MB/s \n",
            "\u001b[K     |████████████████████████████████| 3.3 MB 39.8 MB/s \n",
            "\u001b[?25h"
          ]
        }
      ]
    },
    {
      "cell_type": "markdown",
      "metadata": {
        "id": "g9kj2vfD4XYW"
      },
      "source": [
        "## Import the pipeline from  huggingface . the pipeline are a great and easy way to use models for inference. "
      ]
    },
    {
      "cell_type": "code",
      "metadata": {
        "id": "13GtvoAuKxjt"
      },
      "source": [
        "from transformers import pipeline  "
      ],
      "execution_count": 2,
      "outputs": []
    },
    {
      "cell_type": "markdown",
      "metadata": {
        "id": "aShEStJk5b4X"
      },
      "source": [
        "## We specialize in the task at hand . In our case, it is the fill mask and the template name that will be used. The fill mask consists of masking an arbitrarily chosen word with the <mask> token and the model must predict the word that should be in place of the mask. "
      ]
    },
    {
      "cell_type": "code",
      "metadata": {
        "colab": {
          "base_uri": "https://localhost:8080/",
          "height": 113,
          "referenced_widgets": [
            "02c56e06da3c41719df332314e78e2e1",
            "ac8f0f8ee3b249a5ab3f12b761861c1f",
            "e135aacbdba7486fa43600ea8b8d261e",
            "6b64eeeecd82450cbba8deeb1e2059df",
            "44eab439e558420aac5bb09fa0e85c21",
            "2da21dbb129347b4b4fedc901d2723fa",
            "532689612b3e46de94a802cce635f2ab",
            "81c71462ce3b4dca8de5f3b1da7bdf75",
            "005396d657c24457a1862dd3890e152f",
            "aa68425dd5eb4fe8aefe3b30f12bee96",
            "bbddac8246504e7a81671d8a75a89de9",
            "8f36074fe45547c3b2068c1e064d0bc0",
            "92d981add26c4ce782d3d3f31ad50988",
            "3f548b8d2c8341588dee15a10beaaebf",
            "ec696c71ed074799a6f4d925784656df",
            "6f24e28348c948eeaa58a52c463acd2f",
            "8cc8d186018849fe987f0ad21b3fb22b",
            "621a10d991ea43efa8e4b8edaea1de8d",
            "95087ed9ae3648749f283c8880c23fed",
            "733281cf94d147399332e322894abbe4",
            "6bebfd4968a240c8b26b32d532eb6665",
            "0678cc4d77204c90ad4046579e70cb19",
            "e25afd681f994d0a8b2677f3f08a226c",
            "068d021ee6084103a5d3d12a3bf917ca",
            "b6ec8d48fb304397a8b740d3ed71e988",
            "bf9d88f40d854c2d8cdcee0962633a1d",
            "90ad218f9cdc43f49ceea67f6c4dfa40",
            "1a4a3af415df4d43981a2fb815528a9b",
            "3e5bfa80e974480eb8de03365b1ecee9",
            "5e86f6c6e1d944a5b3b2b2d240cb60e9",
            "99ae6a5b210240f5987daeea27e226a1",
            "62e8190bd7e34dab95cfd26d923b6bb8",
            "a48ac0e639c64690a831f79ac6c46537"
          ]
        },
        "id": "dWjkH7NnLXun",
        "outputId": "a934124a-0f95-409b-843e-1188b8481ace"
      },
      "source": [
        "unmasker = pipeline('fill-mask', model='abdouaziiz/bert-base-wolof')\n"
      ],
      "execution_count": 3,
      "outputs": [
        {
          "output_type": "display_data",
          "data": {
            "application/vnd.jupyter.widget-view+json": {
              "model_id": "02c56e06da3c41719df332314e78e2e1",
              "version_minor": 0,
              "version_major": 2
            },
            "text/plain": [
              "Downloading:   0%|          | 0.00/432 [00:00<?, ?B/s]"
            ]
          },
          "metadata": {}
        },
        {
          "output_type": "display_data",
          "data": {
            "application/vnd.jupyter.widget-view+json": {
              "model_id": "8f36074fe45547c3b2068c1e064d0bc0",
              "version_minor": 0,
              "version_major": 2
            },
            "text/plain": [
              "Downloading:   0%|          | 0.00/217M [00:00<?, ?B/s]"
            ]
          },
          "metadata": {}
        },
        {
          "output_type": "display_data",
          "data": {
            "application/vnd.jupyter.widget-view+json": {
              "model_id": "e25afd681f994d0a8b2677f3f08a226c",
              "version_minor": 0,
              "version_major": 2
            },
            "text/plain": [
              "Downloading:   0%|          | 0.00/95.3k [00:00<?, ?B/s]"
            ]
          },
          "metadata": {}
        }
      ]
    },
    {
      "cell_type": "markdown",
      "metadata": {
        "id": "RTF4Xws0kxHk"
      },
      "source": [
        "## In this example we take the sentences \" kuy yoot du seqet\" and we mask the word seqet with token [MASK] \n"
      ]
    },
    {
      "cell_type": "code",
      "metadata": {
        "colab": {
          "base_uri": "https://localhost:8080/"
        },
        "id": "HedazspPLa6b",
        "outputId": "1e9ccfc3-56c7-411e-a254-aff133260401"
      },
      "source": [
        "unmasker(\"kuy yoot du [MASK].\")"
      ],
      "execution_count": 4,
      "outputs": [
        {
          "output_type": "execute_result",
          "data": {
            "text/plain": [
              "[{'score': 0.09505137801170349,\n",
              "  'sequence': 'kuy yoot du seqet.',\n",
              "  'token': 13578,\n",
              "  'token_str': 'seqet'},\n",
              " {'score': 0.08882257342338562,\n",
              "  'sequence': 'kuy yoot du daw.',\n",
              "  'token': 679,\n",
              "  'token_str': 'daw'},\n",
              " {'score': 0.05779007449746132,\n",
              "  'sequence': 'kuy yoot du yoot.',\n",
              "  'token': 5117,\n",
              "  'token_str': 'yoot'},\n",
              " {'score': 0.05671064183115959,\n",
              "  'sequence': 'kuy yoot du seqat.',\n",
              "  'token': 4992,\n",
              "  'token_str': 'seqat'},\n",
              " {'score': 0.04699993506073952,\n",
              "  'sequence': 'kuy yoot du yaqu.',\n",
              "  'token': 1735,\n",
              "  'token_str': 'yaqu'}]"
            ]
          },
          "metadata": {},
          "execution_count": 4
        }
      ]
    },
    {
      "cell_type": "markdown",
      "metadata": {
        "id": "OZHk4oV38pUx"
      },
      "source": [
        "## Tokenization is an essential task in natural language processing used to break up a string of words into semantically useful units called tokens. \n",
        "\n",
        "*   import the AutoTokenizer from HuggingFace\n",
        "*   This is a generic tokenizer class that will be instantiated as one of the tokenizer classes of the library when created with the AutoTokenizer.from_pretrained() class method.\n",
        "\n"
      ]
    },
    {
      "cell_type": "code",
      "metadata": {
        "id": "_4nUCf9vuzEE"
      },
      "source": [
        "from transformers import AutoTokenizer"
      ],
      "execution_count": 6,
      "outputs": []
    },
    {
      "cell_type": "code",
      "metadata": {
        "id": "qqj8SRwYuy7-"
      },
      "source": [
        "# Introduce the tokenizer with the name of the model, in this case it will be abdouaziiz/bert-base-wolof.\n",
        "tokenizer = AutoTokenizer.from_pretrained('abdouaziiz/bert-base-wolof')"
      ],
      "execution_count": 7,
      "outputs": []
    },
    {
      "cell_type": "code",
      "metadata": {
        "id": "b2bGHd-AvGNT"
      },
      "source": [
        "text= \"bala ngay joxe sa tont dangay nasal sa xel bu baax\"  # the text to encode "
      ],
      "execution_count": 8,
      "outputs": []
    },
    {
      "cell_type": "code",
      "metadata": {
        "id": "vTWqDtY2vBFN"
      },
      "source": [
        "text_encoded = tokenizer.encode_plus(text , \n",
        "                                return_tensors='pt')"
      ],
      "execution_count": 9,
      "outputs": []
    },
    {
      "cell_type": "code",
      "metadata": {
        "colab": {
          "base_uri": "https://localhost:8080/"
        },
        "id": "J2bDm0b5_HQy",
        "outputId": "c37b3049-0f03-4f00-ac0e-6038bc74dfcc"
      },
      "source": [
        "text_encoded"
      ],
      "execution_count": 10,
      "outputs": [
        {
          "output_type": "execute_result",
          "data": {
            "text/plain": [
              "{'input_ids': tensor([[   2,  740,  532,  644,  192, 2959,  857, 9294,  192,  354,  152,  333,\n",
              "            3]]), 'token_type_ids': tensor([[0, 0, 0, 0, 0, 0, 0, 0, 0, 0, 0, 0, 0]]), 'attention_mask': tensor([[1, 1, 1, 1, 1, 1, 1, 1, 1, 1, 1, 1, 1]])}"
            ]
          },
          "metadata": {},
          "execution_count": 10
        }
      ]
    },
    {
      "cell_type": "code",
      "metadata": {
        "colab": {
          "base_uri": "https://localhost:8080/"
        },
        "id": "r5yi9uSZvNvY",
        "outputId": "5981bb8a-9127-4396-bfb0-dfc2264a309b"
      },
      "source": [
        "text_encoded[\"input_ids\"]  # the text encoding "
      ],
      "execution_count": 11,
      "outputs": [
        {
          "output_type": "execute_result",
          "data": {
            "text/plain": [
              "tensor([[   2,  740,  532,  644,  192, 2959,  857, 9294,  192,  354,  152,  333,\n",
              "            3]])"
            ]
          },
          "metadata": {},
          "execution_count": 11
        }
      ]
    },
    {
      "cell_type": "code",
      "metadata": {
        "id": "tpJF8Xy9vT6Q"
      },
      "source": [
        "decode_text = \" \".join(tokenizer.decode(i.item()) for i in text_encoded[\"input_ids\"].flatten())  # A simple way to decode the token to the text original"
      ],
      "execution_count": 12,
      "outputs": []
    },
    {
      "cell_type": "code",
      "metadata": {
        "colab": {
          "base_uri": "https://localhost:8080/",
          "height": 35
        },
        "id": "EV7NKDaBv_BP",
        "outputId": "25102d2d-4b38-4c31-8c65-251d13faa10e"
      },
      "source": [
        "decode_text   "
      ],
      "execution_count": 13,
      "outputs": [
        {
          "output_type": "execute_result",
          "data": {
            "application/vnd.google.colaboratory.intrinsic+json": {
              "type": "string"
            },
            "text/plain": [
              "'[CLS] bala ngay joxe sa tont dangay nasal sa xel bu baax [SEP]'"
            ]
          },
          "metadata": {},
          "execution_count": 13
        }
      ]
    },
    {
      "cell_type": "markdown",
      "metadata": {
        "id": "GH5OXyIsA9vI"
      },
      "source": [
        "### Use the Model"
      ]
    },
    {
      "cell_type": "code",
      "metadata": {
        "id": "AsehNE7BLgRo"
      },
      "source": [
        "from transformers import AutoConfig, AutoModel\n",
        "# Download configuration from huggingface.co and cache.\n",
        "config = AutoConfig.from_pretrained('abdouaziiz/bert-base-wolof')"
      ],
      "execution_count": 14,
      "outputs": []
    },
    {
      "cell_type": "code",
      "metadata": {
        "id": "5M5K8lCwwb6v"
      },
      "source": [
        "model = AutoModel.from_config(config)"
      ],
      "execution_count": 15,
      "outputs": []
    },
    {
      "cell_type": "code",
      "metadata": {
        "id": "WD5ByuNZBGoO"
      },
      "source": [
        "ids = text_encoded[\"input_ids\"]\n",
        "mask = text_encoded[\"attention_mask\"]"
      ],
      "execution_count": 16,
      "outputs": []
    },
    {
      "cell_type": "code",
      "metadata": {
        "id": "De2zj9pAwczc"
      },
      "source": [
        "outut = model(ids , mask)"
      ],
      "execution_count": 17,
      "outputs": []
    },
    {
      "cell_type": "code",
      "metadata": {
        "colab": {
          "base_uri": "https://localhost:8080/"
        },
        "id": "uL4ZjDkkwmOp",
        "outputId": "0ced2659-5235-45f9-ec6e-8b6315272e8e"
      },
      "source": [
        "outut"
      ],
      "execution_count": 18,
      "outputs": [
        {
          "output_type": "execute_result",
          "data": {
            "text/plain": [
              "BaseModelOutputWithPoolingAndCrossAttentions([('last_hidden_state',\n",
              "                                               tensor([[[-0.3933, -0.6215, -0.4389,  ...,  0.1719, -0.6878,  0.0537],\n",
              "                                                        [-0.1656, -0.7140,  0.5332,  ...,  0.5549, -0.2320, -0.7053],\n",
              "                                                        [ 0.7974,  0.3598,  0.4698,  ..., -0.4585, -0.8902, -2.2183],\n",
              "                                                        ...,\n",
              "                                                        [-0.2315, -1.4880,  0.3105,  ..., -0.0174,  0.2971,  0.5815],\n",
              "                                                        [-0.7146, -0.7959, -0.0891,  ..., -1.1802, -0.9113, -1.9362],\n",
              "                                                        [-0.4821, -0.0262,  0.1877,  ..., -0.6339,  0.7420, -0.5355]]],\n",
              "                                                      grad_fn=<NativeLayerNormBackward0>)),\n",
              "                                              ('pooler_output',\n",
              "                                               tensor([[ 3.1223e-01,  2.2727e-01,  1.4679e-01, -1.1637e-01, -1.6181e-01,\n",
              "                                                         6.1085e-01, -4.7399e-01, -6.5060e-01, -3.3673e-02, -1.6047e-01,\n",
              "                                                         4.2486e-02,  3.6065e-01, -9.1710e-02, -1.1935e-01, -5.0350e-01,\n",
              "                                                        -9.4398e-02,  3.2997e-01, -4.8508e-01,  1.3296e-01, -4.2869e-01,\n",
              "                                                        -6.1558e-01, -3.4978e-01,  1.9922e-01,  3.2829e-02,  8.5900e-01,\n",
              "                                                         7.1876e-02, -3.9360e-01, -4.3185e-01, -2.0292e-01, -6.9941e-02,\n",
              "                                                         5.1337e-01, -3.2431e-01,  2.3488e-01, -2.6994e-01,  1.4780e-01,\n",
              "                                                        -6.0574e-01,  1.3512e-01,  3.0076e-01, -5.9543e-01,  7.7031e-02,\n",
              "                                                        -6.4270e-01, -2.6302e-01, -1.0266e-01,  3.0433e-01,  7.1600e-01,\n",
              "                                                         4.7677e-01,  5.1063e-01,  1.1963e-01,  1.3259e-01, -3.4072e-01,\n",
              "                                                        -8.2988e-01, -8.9086e-01,  5.6544e-01, -1.6710e-01, -1.7598e-01,\n",
              "                                                        -3.7791e-03, -4.1592e-01,  3.8668e-02,  5.0491e-01, -2.7704e-02,\n",
              "                                                         9.2733e-01, -6.4886e-01,  1.3399e-01,  6.7823e-01, -2.3360e-01,\n",
              "                                                        -1.9199e-01, -5.4113e-01, -5.3096e-01,  3.9251e-01,  3.1035e-01,\n",
              "                                                        -1.8982e-01,  8.2784e-01, -2.0688e-01, -1.7466e-01,  1.4797e-01,\n",
              "                                                        -4.8374e-01,  2.1783e-01, -1.6132e-01, -3.4869e-01,  3.7827e-01,\n",
              "                                                        -3.2827e-01,  2.4210e-01,  1.6435e-01, -2.6801e-02, -7.1975e-01,\n",
              "                                                        -5.6598e-01, -3.6939e-02, -6.5784e-02,  1.5083e-01, -9.6699e-01,\n",
              "                                                         1.5308e-01, -3.4662e-01,  1.2881e-01, -1.4986e-01, -5.4338e-02,\n",
              "                                                         5.1539e-01, -1.9375e-01,  8.8272e-01,  4.0013e-01,  3.7531e-01,\n",
              "                                                        -1.7417e-01,  8.5911e-01,  1.2549e-01,  4.0402e-01, -5.4921e-01,\n",
              "                                                        -7.2957e-01,  1.7350e-01,  3.5715e-02,  6.9385e-01,  7.6610e-01,\n",
              "                                                         3.4778e-01,  2.1502e-01, -6.3868e-01, -3.4048e-01,  8.4608e-02,\n",
              "                                                        -1.9057e-01, -4.8540e-01, -3.2644e-01,  2.7409e-01,  6.2128e-01,\n",
              "                                                         7.3748e-01, -4.0061e-01,  6.0440e-01,  5.5767e-01, -5.3328e-01,\n",
              "                                                        -6.3116e-01,  7.2662e-02, -2.6596e-01, -3.9830e-01,  7.5569e-01,\n",
              "                                                         6.3394e-01,  4.3312e-01, -5.3559e-01, -6.3953e-01, -1.7973e-01,\n",
              "                                                         3.2239e-01,  1.6665e-02, -6.7066e-01,  1.8050e-01,  1.7818e-01,\n",
              "                                                        -5.1667e-01, -4.0818e-01,  3.1291e-01, -7.4759e-01, -3.3042e-01,\n",
              "                                                        -4.7590e-02,  6.1743e-02,  5.1960e-01,  4.9181e-01, -5.8620e-01,\n",
              "                                                        -8.0066e-02, -4.7685e-01,  4.5115e-01, -2.3825e-02, -6.3214e-01,\n",
              "                                                        -7.7737e-01, -4.9683e-01, -7.3008e-01,  1.7124e-01,  1.5509e-01,\n",
              "                                                        -9.1543e-01,  6.9146e-01,  4.8128e-01,  4.2139e-01, -1.6979e-01,\n",
              "                                                         9.1729e-01, -4.7070e-02,  4.2073e-02, -3.0346e-01, -1.9086e-01,\n",
              "                                                         1.6727e-01, -5.7684e-01, -3.1346e-01, -2.5396e-01,  3.7752e-01,\n",
              "                                                        -8.4347e-02,  8.2478e-01, -4.9094e-01,  4.8997e-01,  7.4060e-01,\n",
              "                                                         1.3933e-01, -3.5050e-01,  6.0993e-01, -6.0361e-03, -6.0421e-02,\n",
              "                                                        -1.9484e-01,  1.8103e-01, -2.9097e-01, -8.4693e-02, -2.2600e-01,\n",
              "                                                        -1.3380e-02, -5.4699e-01, -2.7112e-01, -1.6479e-02, -1.2424e-01,\n",
              "                                                        -1.5448e-01,  7.2316e-01,  6.0424e-01, -5.1089e-01, -1.8724e-01,\n",
              "                                                        -7.4888e-01, -4.6767e-01,  1.4039e-01,  6.2572e-01, -4.7178e-01,\n",
              "                                                         5.7437e-01,  7.9563e-01,  1.8706e-01,  3.5471e-01,  1.3632e-01,\n",
              "                                                         4.8677e-01,  6.1921e-01, -4.8424e-01,  1.5093e-02,  4.2868e-01,\n",
              "                                                        -2.1329e-01, -2.2697e-02, -2.2285e-01, -5.2588e-01,  8.3728e-01,\n",
              "                                                        -9.0422e-01, -4.7847e-01, -3.7212e-01,  2.4140e-01, -9.1906e-01,\n",
              "                                                        -7.7491e-01, -4.5742e-02,  1.1641e-01, -2.7093e-02, -4.3885e-01,\n",
              "                                                         5.9100e-01, -8.6089e-02, -5.5109e-01,  6.1099e-01,  5.3790e-01,\n",
              "                                                         8.1538e-01, -2.7616e-01, -5.5279e-01, -4.9560e-01, -5.9252e-01,\n",
              "                                                        -8.4084e-01, -1.5079e-01,  6.9520e-02, -7.5155e-01,  6.5550e-01,\n",
              "                                                        -2.8768e-01,  5.8584e-01, -3.8759e-01,  5.5757e-01, -6.4640e-01,\n",
              "                                                        -5.8029e-01, -9.6737e-03, -4.6187e-01,  8.0416e-01,  6.0745e-01,\n",
              "                                                        -5.4035e-01,  7.0174e-01,  4.2883e-01, -8.1126e-02,  5.3900e-01,\n",
              "                                                         2.0668e-01, -2.7086e-01,  4.4644e-01, -3.9311e-01,  8.0484e-01,\n",
              "                                                         5.6045e-02,  1.6061e-01, -8.9284e-02,  1.9272e-01,  5.2447e-01,\n",
              "                                                         6.9484e-01, -6.2332e-01,  7.8179e-01, -4.3437e-01,  3.9581e-01,\n",
              "                                                         1.1104e-01,  2.0080e-01, -6.9699e-01, -3.4289e-01,  8.4856e-01,\n",
              "                                                        -6.0566e-01, -5.7441e-01,  6.2390e-01, -3.2073e-01, -2.3614e-01,\n",
              "                                                        -1.5119e-01,  1.1623e-01, -2.5989e-01, -7.5222e-01, -1.0445e-01,\n",
              "                                                         5.3088e-01,  3.8784e-01, -2.0803e-01, -1.1243e-01,  5.3660e-01,\n",
              "                                                        -2.1066e-01,  2.9453e-01, -3.3557e-01,  2.5389e-01, -3.5104e-01,\n",
              "                                                         1.4909e-01, -7.6608e-01,  8.4953e-02,  3.1911e-01, -5.5452e-01,\n",
              "                                                        -4.6546e-01, -4.9541e-01, -8.1884e-01,  2.1612e-02, -2.8959e-01,\n",
              "                                                        -4.5230e-01,  2.5679e-01, -5.1914e-01,  2.6470e-01,  8.1631e-01,\n",
              "                                                        -5.5015e-01, -2.0805e-01, -8.8032e-02, -6.0156e-01,  1.4417e-01,\n",
              "                                                         4.4427e-01, -3.1817e-01,  5.8965e-01, -6.3713e-01, -2.6810e-01,\n",
              "                                                         2.4345e-01,  3.0910e-02, -9.8811e-02, -1.9704e-01, -8.5452e-02,\n",
              "                                                         4.3402e-01,  6.6552e-01, -5.2396e-01,  1.6045e-01, -4.6283e-02,\n",
              "                                                        -2.3572e-01,  7.2595e-01, -1.1767e-02,  7.7658e-01,  3.5797e-01,\n",
              "                                                        -3.0898e-01, -2.5024e-01,  7.6706e-01, -4.4086e-01, -7.7040e-02,\n",
              "                                                        -3.4827e-01, -2.3759e-01,  7.2861e-01,  7.2157e-01, -1.6354e-01,\n",
              "                                                        -4.8799e-01,  2.3133e-01,  5.6223e-01, -4.1092e-01, -3.7009e-01,\n",
              "                                                        -2.4246e-01,  5.7236e-02,  7.2623e-01,  5.0513e-01,  1.4474e-02,\n",
              "                                                         4.3502e-02,  6.0307e-01,  1.8302e-01, -6.2586e-01, -3.3202e-01,\n",
              "                                                        -5.4302e-01, -3.8205e-01, -2.0516e-01, -9.8455e-02, -8.0077e-01,\n",
              "                                                         6.9347e-01, -4.6388e-01, -4.2660e-01,  3.0351e-01,  8.2261e-02,\n",
              "                                                        -3.8003e-01,  6.9377e-01, -2.4964e-01,  1.3156e-01, -2.8609e-01,\n",
              "                                                         5.4455e-02,  1.0075e-01,  3.8893e-01,  4.0638e-01, -4.0184e-01,\n",
              "                                                         6.7906e-01, -9.7413e-02,  3.1274e-01, -3.9782e-01,  3.8548e-01,\n",
              "                                                         1.1939e-01, -3.0831e-01, -8.1130e-01, -4.3652e-02, -1.2447e-01,\n",
              "                                                        -3.7401e-01,  1.0122e-01,  1.0904e-01,  6.2894e-01,  7.3650e-01,\n",
              "                                                        -6.8238e-01,  3.1976e-01, -3.0345e-01,  2.9177e-01, -5.2190e-01,\n",
              "                                                         2.8720e-01,  3.8925e-01, -3.9747e-02, -4.7962e-02, -5.5532e-01,\n",
              "                                                        -3.5036e-02,  1.2581e-01, -6.8231e-01, -5.2696e-01, -5.4208e-01,\n",
              "                                                        -8.7119e-01, -4.0584e-01,  1.3815e-01, -2.6715e-01, -5.3191e-01,\n",
              "                                                         3.0852e-01, -3.4046e-01,  1.3847e-01,  1.8217e-01,  4.0199e-01,\n",
              "                                                        -2.2279e-01, -2.2545e-01, -1.6610e-01,  4.0613e-01,  2.6409e-01,\n",
              "                                                         3.7251e-01,  2.2590e-01, -7.0684e-01, -6.0547e-01, -4.2222e-01,\n",
              "                                                         6.6651e-01, -6.3074e-01, -5.4886e-01, -2.9145e-01, -4.8249e-01,\n",
              "                                                         2.3249e-01, -2.2126e-01,  2.1633e-02,  5.1675e-01, -6.4230e-01,\n",
              "                                                         3.0617e-01, -9.9362e-02, -4.4138e-01, -4.6721e-01,  6.7075e-01,\n",
              "                                                         2.5158e-02,  4.5515e-01, -3.5193e-01,  5.6735e-01, -5.0236e-01,\n",
              "                                                        -9.3218e-02, -7.2989e-01,  5.9476e-01,  7.1400e-02, -1.3845e-01,\n",
              "                                                        -6.4230e-01,  2.2385e-01,  2.2404e-01,  8.5589e-01,  7.9494e-01,\n",
              "                                                        -5.0699e-01, -8.5324e-01, -1.3232e-01, -5.4610e-01, -4.0538e-01,\n",
              "                                                        -2.5559e-02, -6.4255e-01,  3.6128e-01,  2.1465e-01,  5.3874e-01,\n",
              "                                                         7.4967e-01,  2.5858e-01, -2.3255e-01, -1.2460e-01,  1.7888e-01,\n",
              "                                                         1.6248e-01,  1.4460e-01, -1.1490e-01, -4.6762e-01, -3.1513e-01,\n",
              "                                                         3.3303e-01,  5.7051e-01,  5.7142e-01,  1.2314e-01, -1.8192e-02,\n",
              "                                                         1.8454e-01,  2.8387e-01, -9.6019e-03, -5.9219e-01,  5.7449e-01,\n",
              "                                                         6.9065e-01, -2.3381e-03, -4.3196e-01, -7.9187e-01, -3.4740e-02,\n",
              "                                                        -2.8192e-01,  8.1205e-01, -5.3755e-01,  1.0771e-01, -4.0163e-02,\n",
              "                                                         5.8887e-01, -8.3140e-01, -2.5656e-01,  9.6506e-02,  1.1341e-02,\n",
              "                                                         1.3863e-02,  2.8933e-01, -7.0162e-01,  6.3827e-01,  8.5176e-01,\n",
              "                                                         8.5618e-01,  3.3415e-01,  5.6468e-01, -1.9642e-01,  9.1909e-01,\n",
              "                                                         3.7955e-01,  2.0937e-01,  2.5391e-01,  2.3971e-01,  7.0373e-01,\n",
              "                                                        -4.7510e-01, -3.6856e-01,  5.7522e-01, -2.2588e-01, -8.4038e-02,\n",
              "                                                        -1.4783e-01, -4.6206e-01,  6.9636e-01, -2.3591e-02,  1.7097e-02,\n",
              "                                                        -9.8761e-02,  8.8104e-01, -7.3146e-01,  1.1998e-02, -7.9753e-01,\n",
              "                                                         7.7902e-02, -8.5758e-01, -1.7132e-02,  9.2465e-01, -7.7447e-01,\n",
              "                                                         1.3398e-01, -6.1017e-01, -6.9261e-01,  8.1079e-01,  4.8886e-01,\n",
              "                                                        -2.4568e-01, -6.4819e-01,  7.4969e-02,  2.4768e-01,  2.0318e-01,\n",
              "                                                         9.2160e-01,  3.8533e-01, -8.1688e-02, -1.8536e-01, -5.1344e-03,\n",
              "                                                         4.7839e-01,  6.7285e-01,  1.4176e-01, -5.5480e-01, -6.3635e-01,\n",
              "                                                         7.6353e-01,  1.1822e-01, -6.8368e-01, -5.5353e-01,  3.3743e-01,\n",
              "                                                        -1.9585e-01, -4.1053e-01,  5.5949e-01, -3.9962e-01,  1.0332e-01,\n",
              "                                                        -3.8069e-02, -1.5862e-01, -1.0343e-01, -4.1236e-01, -6.8789e-01,\n",
              "                                                         2.6718e-01,  8.4796e-02,  3.9790e-01,  8.7106e-01,  4.1883e-01,\n",
              "                                                        -9.3435e-01,  4.8765e-01,  7.4160e-01,  3.3829e-01,  5.9403e-01,\n",
              "                                                         4.6322e-01, -7.8258e-01,  4.0611e-01, -2.0016e-01, -6.9737e-01,\n",
              "                                                         7.2989e-04,  1.8637e-01,  4.0827e-01, -2.1271e-01,  2.8189e-01,\n",
              "                                                         2.0601e-01, -3.9354e-01, -9.2134e-02,  2.0587e-01,  4.5613e-02,\n",
              "                                                         9.1916e-02,  6.5664e-01, -5.4893e-01, -5.7714e-01, -5.4857e-02,\n",
              "                                                        -7.0464e-01, -7.2435e-01,  5.2340e-01,  6.4615e-01,  2.2865e-01,\n",
              "                                                        -1.4520e-01, -6.9395e-01, -4.7558e-02, -5.0526e-01, -2.0785e-01,\n",
              "                                                        -5.7036e-01,  1.2205e-01, -3.9268e-01, -8.4969e-02,  2.1071e-01,\n",
              "                                                         2.9086e-01, -9.0330e-01, -5.2701e-02,  1.3808e-01, -8.1466e-01,\n",
              "                                                         6.2801e-01,  7.1595e-01,  2.0341e-01,  3.1973e-01,  7.1491e-01,\n",
              "                                                        -5.4935e-01, -2.9255e-02, -1.6134e-01, -6.2304e-01, -1.2506e-01,\n",
              "                                                        -5.9932e-01, -7.2879e-01, -3.5821e-01, -7.8442e-01,  3.8809e-01,\n",
              "                                                        -5.0653e-01, -2.6674e-01,  3.0031e-01, -5.3646e-01,  5.0795e-01,\n",
              "                                                         3.7262e-01,  4.4032e-02,  1.5866e-01,  3.2699e-01,  5.3484e-01,\n",
              "                                                         3.2744e-01,  4.7397e-01,  2.1572e-01, -6.0708e-01, -5.9056e-01,\n",
              "                                                         4.2800e-01,  5.1746e-01, -5.2216e-01, -8.2912e-01, -4.7636e-01,\n",
              "                                                         6.8761e-02,  1.7856e-01, -1.2600e-01, -7.8412e-01,  5.3785e-01,\n",
              "                                                        -3.8004e-01,  1.5992e-01,  5.4607e-01, -1.1028e-01, -7.0756e-01,\n",
              "                                                        -1.8929e-01, -3.1246e-01,  2.7962e-01, -8.1338e-01, -6.3247e-01,\n",
              "                                                        -4.5843e-01,  2.1704e-01,  1.9182e-01, -6.3614e-01, -2.8490e-02,\n",
              "                                                         4.7855e-01,  2.6521e-02,  4.1324e-01,  5.7205e-01,  6.8288e-01,\n",
              "                                                        -6.2553e-01, -7.4455e-01,  1.6168e-01, -4.7729e-02,  6.0337e-01,\n",
              "                                                        -2.1356e-01, -7.6522e-01,  2.0157e-01,  8.4345e-01, -7.8827e-01,\n",
              "                                                         8.0020e-02, -6.4583e-01,  8.8577e-02,  5.3665e-01, -5.3704e-01,\n",
              "                                                         6.2536e-01,  8.0462e-01,  5.2707e-01, -2.9617e-01,  7.1797e-01,\n",
              "                                                         9.8265e-03,  6.1336e-01,  7.7739e-01,  3.3660e-01,  3.2863e-01,\n",
              "                                                         4.5215e-01, -5.6023e-02, -3.3281e-01, -3.7962e-01, -4.7023e-01,\n",
              "                                                        -1.6058e-01, -1.3146e-01, -3.8845e-01,  7.4077e-01, -2.1792e-01,\n",
              "                                                        -1.6865e-02, -3.5731e-01, -7.0737e-02, -2.2795e-01, -1.5860e-01,\n",
              "                                                         2.3765e-01,  2.7479e-01,  2.4800e-01, -8.2519e-01,  2.1727e-02,\n",
              "                                                         4.4060e-01, -5.6710e-01, -7.4449e-01,  3.4375e-01,  5.5784e-01,\n",
              "                                                        -8.7009e-01, -6.6138e-02,  3.7658e-01,  3.4074e-02, -6.9372e-01,\n",
              "                                                        -1.0512e-01, -4.0992e-01, -8.9256e-01,  7.2587e-01, -3.4849e-01,\n",
              "                                                         2.3451e-01, -7.2024e-01, -4.1674e-01,  2.2152e-01,  1.9956e-01,\n",
              "                                                        -2.5182e-01, -1.4652e-01,  2.0612e-01,  3.3281e-01, -4.7233e-01,\n",
              "                                                        -2.0856e-01,  2.7815e-01,  4.3576e-01,  4.4549e-01,  6.0093e-01,\n",
              "                                                        -6.5385e-01, -8.0868e-01,  2.4226e-01]], grad_fn=<TanhBackward0>))])"
            ]
          },
          "metadata": {},
          "execution_count": 18
        }
      ]
    },
    {
      "cell_type": "code",
      "metadata": {
        "id": "8FIgD_N9wsdN"
      },
      "source": [
        ""
      ],
      "execution_count": null,
      "outputs": []
    }
  ]
}